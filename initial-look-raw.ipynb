{
 "cells": [
  {
   "cell_type": "markdown",
   "metadata": {},
   "source": [
    "# Capacity on buses - Logistic Regression"
   ]
  },
  {
   "cell_type": "code",
   "execution_count": 1,
   "metadata": {},
   "outputs": [],
   "source": [
    "# import packages\n",
    "import pandas as pd\n",
    "desired_width = 320\n",
    "import numpy as np\n",
    "import scipy.optimize as opt\n",
    "from sklearn import preprocessing\n",
    "import matplotlib\n",
    "import matplotlib.pyplot as plt\n",
    "\n",
    "# expand ouput display for columns and rows\n",
    "pd.set_option('display.max_columns', None)\n",
    "pd.set_option('display.max_rows', None)\n"
   ]
  },
  {
   "cell_type": "markdown",
   "metadata": {},
   "source": [
    "# Use case:\n",
    "- Predict bus capacity for one bus stop(s) ahead\n",
    "- Provide probability for \"full bus\": High, medium, low\n",
    "\n"
   ]
  },
  {
   "cell_type": "markdown",
   "metadata": {},
   "source": [
    "### Load dataset from xlsx File for Line 37 - 2+ months"
   ]
  },
  {
   "cell_type": "code",
   "execution_count": 2,
   "metadata": {
    "scrolled": true
   },
   "outputs": [
    {
     "data": {
      "text/html": [
       "<div>\n",
       "<style scoped>\n",
       "    .dataframe tbody tr th:only-of-type {\n",
       "        vertical-align: middle;\n",
       "    }\n",
       "\n",
       "    .dataframe tbody tr th {\n",
       "        vertical-align: top;\n",
       "    }\n",
       "\n",
       "    .dataframe thead th {\n",
       "        text-align: right;\n",
       "    }\n",
       "</style>\n",
       "<table border=\"1\" class=\"dataframe\">\n",
       "  <thead>\n",
       "    <tr style=\"text-align: right;\">\n",
       "      <th></th>\n",
       "      <th>Trip_id</th>\n",
       "      <th>OP_DAY</th>\n",
       "      <th>vehicle_no</th>\n",
       "      <th>line_no</th>\n",
       "      <th>line_name</th>\n",
       "      <th>ROUTE_DIRECTION</th>\n",
       "      <th>QUAYREF</th>\n",
       "      <th>STOPPLACEREF</th>\n",
       "      <th>STOPPLACENAME</th>\n",
       "      <th>STOP_IDX</th>\n",
       "      <th>PLAN_START_TIME</th>\n",
       "      <th>REAL_START_TIME</th>\n",
       "      <th>SCHED_ARR_TIME</th>\n",
       "      <th>SCHED_DEP_TIME</th>\n",
       "      <th>ACT_ARR_TIME</th>\n",
       "      <th>ACT_DEP_TIME</th>\n",
       "      <th>BOARDING_ORG</th>\n",
       "      <th>ALIGHTING_ORG</th>\n",
       "      <th>SOURCESYSTEM</th>\n",
       "      <th>Exclude_flg</th>\n",
       "      <th>FK_DTime_Plan_End_Time</th>\n",
       "      <th>MATCHINGLOGIC</th>\n",
       "      <th>ROUTESERVICEMODE</th>\n",
       "      <th>ROUTESERVICETYPE</th>\n",
       "      <th>ROUTECOUNTYNAME</th>\n",
       "    </tr>\n",
       "  </thead>\n",
       "  <tbody>\n",
       "    <tr>\n",
       "      <th>0</th>\n",
       "      <td>563241428</td>\n",
       "      <td>2020-03-07 00:00:00</td>\n",
       "      <td>103048</td>\n",
       "      <td>37</td>\n",
       "      <td>37</td>\n",
       "      <td>1</td>\n",
       "      <td>NSR:Quay:12076</td>\n",
       "      <td>NSR:StopPlace:6540</td>\n",
       "      <td>Galgeberg</td>\n",
       "      <td>4</td>\n",
       "      <td>16500</td>\n",
       "      <td>16602</td>\n",
       "      <td>16740</td>\n",
       "      <td>16740</td>\n",
       "      <td>16878</td>\n",
       "      <td>16878</td>\n",
       "      <td>5.0</td>\n",
       "      <td>0.0</td>\n",
       "      <td>APT1_SIS</td>\n",
       "      <td>0</td>\n",
       "      <td>18360</td>\n",
       "      <td>Direct</td>\n",
       "      <td>Buss</td>\n",
       "      <td>Lokal</td>\n",
       "      <td>Oslo</td>\n",
       "    </tr>\n",
       "    <tr>\n",
       "      <th>1</th>\n",
       "      <td>563241428</td>\n",
       "      <td>2020-03-07 00:00:00</td>\n",
       "      <td>103048</td>\n",
       "      <td>37</td>\n",
       "      <td>37</td>\n",
       "      <td>1</td>\n",
       "      <td>NSR:Quay:11566</td>\n",
       "      <td>NSR:StopPlace:6297</td>\n",
       "      <td>Lovisenberg</td>\n",
       "      <td>16</td>\n",
       "      <td>16500</td>\n",
       "      <td>16602</td>\n",
       "      <td>17700</td>\n",
       "      <td>17700</td>\n",
       "      <td>17785</td>\n",
       "      <td>17785</td>\n",
       "      <td>0.0</td>\n",
       "      <td>0.0</td>\n",
       "      <td>APT1_SIS</td>\n",
       "      <td>0</td>\n",
       "      <td>18360</td>\n",
       "      <td>Direct</td>\n",
       "      <td>Buss</td>\n",
       "      <td>Lokal</td>\n",
       "      <td>Oslo</td>\n",
       "    </tr>\n",
       "    <tr>\n",
       "      <th>2</th>\n",
       "      <td>563241518</td>\n",
       "      <td>2020-03-07 00:00:00</td>\n",
       "      <td>103048</td>\n",
       "      <td>37</td>\n",
       "      <td>37</td>\n",
       "      <td>0</td>\n",
       "      <td>NSR:Quay:11795</td>\n",
       "      <td>NSR:StopPlace:6418</td>\n",
       "      <td>Kristoffer Aamots gate</td>\n",
       "      <td>1</td>\n",
       "      <td>19020</td>\n",
       "      <td>19093</td>\n",
       "      <td>19080</td>\n",
       "      <td>19080</td>\n",
       "      <td>19127</td>\n",
       "      <td>19127</td>\n",
       "      <td>0.0</td>\n",
       "      <td>0.0</td>\n",
       "      <td>APT1_SIS</td>\n",
       "      <td>0</td>\n",
       "      <td>21240</td>\n",
       "      <td>Direct</td>\n",
       "      <td>Buss</td>\n",
       "      <td>Lokal</td>\n",
       "      <td>Oslo</td>\n",
       "    </tr>\n",
       "    <tr>\n",
       "      <th>3</th>\n",
       "      <td>563241518</td>\n",
       "      <td>2020-03-07 00:00:00</td>\n",
       "      <td>103048</td>\n",
       "      <td>37</td>\n",
       "      <td>37</td>\n",
       "      <td>0</td>\n",
       "      <td>NSR:Quay:11534</td>\n",
       "      <td>NSR:StopPlace:6281</td>\n",
       "      <td>Stensberggata</td>\n",
       "      <td>13</td>\n",
       "      <td>19020</td>\n",
       "      <td>19093</td>\n",
       "      <td>19920</td>\n",
       "      <td>19920</td>\n",
       "      <td>19906</td>\n",
       "      <td>19930</td>\n",
       "      <td>2.0</td>\n",
       "      <td>0.0</td>\n",
       "      <td>APT1_SIS</td>\n",
       "      <td>0</td>\n",
       "      <td>21240</td>\n",
       "      <td>Direct</td>\n",
       "      <td>Buss</td>\n",
       "      <td>Lokal</td>\n",
       "      <td>Oslo</td>\n",
       "    </tr>\n",
       "    <tr>\n",
       "      <th>4</th>\n",
       "      <td>563241518</td>\n",
       "      <td>2020-03-07 00:00:00</td>\n",
       "      <td>103048</td>\n",
       "      <td>37</td>\n",
       "      <td>37</td>\n",
       "      <td>0</td>\n",
       "      <td>NSR:Quay:12083</td>\n",
       "      <td>NSR:StopPlace:6544</td>\n",
       "      <td>Etterstadgata</td>\n",
       "      <td>25</td>\n",
       "      <td>19020</td>\n",
       "      <td>19093</td>\n",
       "      <td>20940</td>\n",
       "      <td>20940</td>\n",
       "      <td>20943</td>\n",
       "      <td>20943</td>\n",
       "      <td>0.0</td>\n",
       "      <td>0.0</td>\n",
       "      <td>APT1_SIS</td>\n",
       "      <td>0</td>\n",
       "      <td>21240</td>\n",
       "      <td>Direct</td>\n",
       "      <td>Buss</td>\n",
       "      <td>Lokal</td>\n",
       "      <td>Oslo</td>\n",
       "    </tr>\n",
       "  </tbody>\n",
       "</table>\n",
       "</div>"
      ],
      "text/plain": [
       "     Trip_id               OP_DAY  vehicle_no  line_no  line_name  \\\n",
       "0  563241428  2020-03-07 00:00:00      103048       37         37   \n",
       "1  563241428  2020-03-07 00:00:00      103048       37         37   \n",
       "2  563241518  2020-03-07 00:00:00      103048       37         37   \n",
       "3  563241518  2020-03-07 00:00:00      103048       37         37   \n",
       "4  563241518  2020-03-07 00:00:00      103048       37         37   \n",
       "\n",
       "   ROUTE_DIRECTION         QUAYREF        STOPPLACEREF  \\\n",
       "0                1  NSR:Quay:12076  NSR:StopPlace:6540   \n",
       "1                1  NSR:Quay:11566  NSR:StopPlace:6297   \n",
       "2                0  NSR:Quay:11795  NSR:StopPlace:6418   \n",
       "3                0  NSR:Quay:11534  NSR:StopPlace:6281   \n",
       "4                0  NSR:Quay:12083  NSR:StopPlace:6544   \n",
       "\n",
       "            STOPPLACENAME  STOP_IDX  PLAN_START_TIME  REAL_START_TIME  \\\n",
       "0               Galgeberg         4            16500            16602   \n",
       "1             Lovisenberg        16            16500            16602   \n",
       "2  Kristoffer Aamots gate         1            19020            19093   \n",
       "3           Stensberggata        13            19020            19093   \n",
       "4           Etterstadgata        25            19020            19093   \n",
       "\n",
       "   SCHED_ARR_TIME  SCHED_DEP_TIME  ACT_ARR_TIME  ACT_DEP_TIME  BOARDING_ORG  \\\n",
       "0           16740           16740         16878         16878           5.0   \n",
       "1           17700           17700         17785         17785           0.0   \n",
       "2           19080           19080         19127         19127           0.0   \n",
       "3           19920           19920         19906         19930           2.0   \n",
       "4           20940           20940         20943         20943           0.0   \n",
       "\n",
       "   ALIGHTING_ORG SOURCESYSTEM  Exclude_flg  FK_DTime_Plan_End_Time  \\\n",
       "0            0.0     APT1_SIS            0                   18360   \n",
       "1            0.0     APT1_SIS            0                   18360   \n",
       "2            0.0     APT1_SIS            0                   21240   \n",
       "3            0.0     APT1_SIS            0                   21240   \n",
       "4            0.0     APT1_SIS            0                   21240   \n",
       "\n",
       "  MATCHINGLOGIC ROUTESERVICEMODE ROUTESERVICETYPE ROUTECOUNTYNAME  \n",
       "0        Direct             Buss            Lokal            Oslo  \n",
       "1        Direct             Buss            Lokal            Oslo  \n",
       "2        Direct             Buss            Lokal            Oslo  \n",
       "3        Direct             Buss            Lokal            Oslo  \n",
       "4        Direct             Buss            Lokal            Oslo  "
      ]
     },
     "execution_count": 2,
     "metadata": {},
     "output_type": "execute_result"
    }
   ],
   "source": [
    "# read csv\n",
    "df = pd.read_csv(\"L37_2020_03_05.txt\", encoding = \"ISO-8859-1\",sep='\\t')\n",
    "\n",
    "df.head()"
   ]
  },
  {
   "cell_type": "code",
   "execution_count": 3,
   "metadata": {},
   "outputs": [
    {
     "data": {
      "text/plain": [
       "Index(['Trip_id', 'OP_DAY', 'vehicle_no', 'line_no', 'line_name',\n",
       "       'ROUTE_DIRECTION', 'QUAYREF', 'STOPPLACEREF', 'STOPPLACENAME',\n",
       "       'STOP_IDX', 'PLAN_START_TIME', 'REAL_START_TIME', 'SCHED_ARR_TIME',\n",
       "       'SCHED_DEP_TIME', 'ACT_ARR_TIME', 'ACT_DEP_TIME', 'BOARDING_ORG',\n",
       "       'ALIGHTING_ORG', 'SOURCESYSTEM', 'Exclude_flg',\n",
       "       'FK_DTime_Plan_End_Time', 'MATCHINGLOGIC', 'ROUTESERVICEMODE',\n",
       "       'ROUTESERVICETYPE', 'ROUTECOUNTYNAME'],\n",
       "      dtype='object')"
      ]
     },
     "execution_count": 3,
     "metadata": {},
     "output_type": "execute_result"
    }
   ],
   "source": [
    "# output column labels of the DataFrame\n",
    "df.columns"
   ]
  },
  {
   "cell_type": "code",
   "execution_count": 4,
   "metadata": {},
   "outputs": [
    {
     "data": {
      "text/plain": [
       "Trip_id                     int64\n",
       "OP_DAY                     object\n",
       "vehicle_no                  int64\n",
       "line_no                     int64\n",
       "line_name                   int64\n",
       "ROUTE_DIRECTION             int64\n",
       "QUAYREF                    object\n",
       "STOPPLACEREF               object\n",
       "STOPPLACENAME              object\n",
       "STOP_IDX                    int64\n",
       "PLAN_START_TIME             int64\n",
       "REAL_START_TIME             int64\n",
       "SCHED_ARR_TIME              int64\n",
       "SCHED_DEP_TIME              int64\n",
       "ACT_ARR_TIME                int64\n",
       "ACT_DEP_TIME                int64\n",
       "BOARDING_ORG              float64\n",
       "ALIGHTING_ORG             float64\n",
       "SOURCESYSTEM               object\n",
       "Exclude_flg                 int64\n",
       "FK_DTime_Plan_End_Time      int64\n",
       "MATCHINGLOGIC              object\n",
       "ROUTESERVICEMODE           object\n",
       "ROUTESERVICETYPE           object\n",
       "ROUTECOUNTYNAME            object\n",
       "dtype: object"
      ]
     },
     "execution_count": 4,
     "metadata": {},
     "output_type": "execute_result"
    }
   ],
   "source": [
    "# output dtypes in dataframe\n",
    "df.dtypes"
   ]
  },
  {
   "cell_type": "markdown",
   "metadata": {},
   "source": [
    "### Evaluating for Missing data"
   ]
  },
  {
   "cell_type": "code",
   "execution_count": 5,
   "metadata": {},
   "outputs": [],
   "source": [
    "# return boolean for detecting missing values\n",
    "missing_data = df.isnull()"
   ]
  },
  {
   "cell_type": "code",
   "execution_count": 6,
   "metadata": {},
   "outputs": [
    {
     "name": "stdout",
     "output_type": "stream",
     "text": [
      "Trip_id\n",
      "False    591278\n",
      "Name: Trip_id, dtype: int64\n",
      "\n",
      "OP_DAY\n",
      "False    591278\n",
      "Name: OP_DAY, dtype: int64\n",
      "\n",
      "vehicle_no\n",
      "False    591278\n",
      "Name: vehicle_no, dtype: int64\n",
      "\n",
      "line_no\n",
      "False    591278\n",
      "Name: line_no, dtype: int64\n",
      "\n",
      "line_name\n",
      "False    591278\n",
      "Name: line_name, dtype: int64\n",
      "\n",
      "ROUTE_DIRECTION\n",
      "False    591278\n",
      "Name: ROUTE_DIRECTION, dtype: int64\n",
      "\n",
      "QUAYREF\n",
      "False    591278\n",
      "Name: QUAYREF, dtype: int64\n",
      "\n",
      "STOPPLACEREF\n",
      "False    591278\n",
      "Name: STOPPLACEREF, dtype: int64\n",
      "\n",
      "STOPPLACENAME\n",
      "False    591278\n",
      "Name: STOPPLACENAME, dtype: int64\n",
      "\n",
      "STOP_IDX\n",
      "False    591278\n",
      "Name: STOP_IDX, dtype: int64\n",
      "\n",
      "PLAN_START_TIME\n",
      "False    591278\n",
      "Name: PLAN_START_TIME, dtype: int64\n",
      "\n",
      "REAL_START_TIME\n",
      "False    591278\n",
      "Name: REAL_START_TIME, dtype: int64\n",
      "\n",
      "SCHED_ARR_TIME\n",
      "False    591278\n",
      "Name: SCHED_ARR_TIME, dtype: int64\n",
      "\n",
      "SCHED_DEP_TIME\n",
      "False    591278\n",
      "Name: SCHED_DEP_TIME, dtype: int64\n",
      "\n",
      "ACT_ARR_TIME\n",
      "False    591278\n",
      "Name: ACT_ARR_TIME, dtype: int64\n",
      "\n",
      "ACT_DEP_TIME\n",
      "False    591278\n",
      "Name: ACT_DEP_TIME, dtype: int64\n",
      "\n",
      "BOARDING_ORG\n",
      "False    577877\n",
      "True      13401\n",
      "Name: BOARDING_ORG, dtype: int64\n",
      "\n",
      "ALIGHTING_ORG\n",
      "False    577877\n",
      "True      13401\n",
      "Name: ALIGHTING_ORG, dtype: int64\n",
      "\n",
      "SOURCESYSTEM\n",
      "False    591278\n",
      "Name: SOURCESYSTEM, dtype: int64\n",
      "\n",
      "Exclude_flg\n",
      "False    591278\n",
      "Name: Exclude_flg, dtype: int64\n",
      "\n",
      "FK_DTime_Plan_End_Time\n",
      "False    591278\n",
      "Name: FK_DTime_Plan_End_Time, dtype: int64\n",
      "\n",
      "MATCHINGLOGIC\n",
      "False    591278\n",
      "Name: MATCHINGLOGIC, dtype: int64\n",
      "\n",
      "ROUTESERVICEMODE\n",
      "False    591278\n",
      "Name: ROUTESERVICEMODE, dtype: int64\n",
      "\n",
      "ROUTESERVICETYPE\n",
      "False    591278\n",
      "Name: ROUTESERVICETYPE, dtype: int64\n",
      "\n",
      "ROUTECOUNTYNAME\n",
      "False    591278\n",
      "Name: ROUTECOUNTYNAME, dtype: int64\n",
      "\n"
     ]
    }
   ],
   "source": [
    "# for loop to count the numbers of missing values in each column.\n",
    "for column in missing_data.columns.values.tolist():\n",
    "    print(column)\n",
    "    print (missing_data[column].value_counts())\n",
    "    print(\"\")    "
   ]
  },
  {
   "cell_type": "markdown",
   "metadata": {},
   "source": [
    "Based on the summary above, there are:\n",
    "- 13401 missing values for 'aligthing_org' and 'boarding_org'"
   ]
  },
  {
   "cell_type": "code",
   "execution_count": 7,
   "metadata": {},
   "outputs": [],
   "source": [
    "# drop whole rows with NULL in \"alighting\",\"boarding_org\" column\n",
    "df.dropna(subset=['ALIGHTING_ORG','BOARDING_ORG'], axis=0, inplace=True)\n",
    "\n",
    "# reset index, because we droped 4300 rows\n",
    "df.reset_index(drop=True, inplace=True)"
   ]
  },
  {
   "cell_type": "markdown",
   "metadata": {},
   "source": [
    "## Selection"
   ]
  },
  {
   "cell_type": "code",
   "execution_count": 8,
   "metadata": {},
   "outputs": [],
   "source": [
    "# create new dataframe with selected columns\n",
    "# sorted in the following order 'OP_DAY','TRIP_ID','ACT_ARR_TIME'.\n",
    "capacity_df = df[['Trip_id', 'OP_DAY', 'vehicle_no', 'line_no',\n",
    "       'ROUTE_DIRECTION', 'QUAYREF', 'STOPPLACEREF', 'STOPPLACENAME',\n",
    "       'STOP_IDX', 'ACT_ARR_TIME', 'ACT_DEP_TIME', 'BOARDING_ORG',\n",
    "       'ALIGHTING_ORG']].sort_values(by=['OP_DAY','vehicle_no','Trip_id','ACT_ARR_TIME'], ascending = True)\n"
   ]
  },
  {
   "cell_type": "code",
   "execution_count": 9,
   "metadata": {},
   "outputs": [],
   "source": [
    "# reset index\n",
    "capacity_df.reset_index(inplace = True)"
   ]
  },
  {
   "cell_type": "code",
   "execution_count": 10,
   "metadata": {},
   "outputs": [],
   "source": [
    "#capacity_df['vehicle_no'].unique()"
   ]
  },
  {
   "cell_type": "code",
   "execution_count": 11,
   "metadata": {
    "scrolled": true
   },
   "outputs": [
    {
     "name": "stdout",
     "output_type": "stream",
     "text": [
      "CPU times: user 3.31 s, sys: 76.4 ms, total: 3.39 s\n",
      "Wall time: 3.38 s\n"
     ]
    },
    {
     "data": {
      "text/plain": [
       "'trip_id = 0\\nprev_load = 0\\nfor index, row in capacity_df.iterrows():\\n    if row[\"Trip_id\"] != trip_id:\\n        trip_id = row[\"Trip_id\"]\\n        capacity_df.loc[index, \"LOAD\"] = row[\"BOARDING_ORG\"] - row[\"ALIGHTING_ORG\"]\\n    else:\\n        capacity_df.loc[index, \"LOAD\"] = prev_load + row[\"BOARDING_ORG\"] - row[\"ALIGHTING_ORG\"]\\n    prev_load = capacity_df.loc[index, \"LOAD\"]\\n\\n'"
      ]
     },
     "execution_count": 11,
     "metadata": {},
     "output_type": "execute_result"
    }
   ],
   "source": [
    "%%time\n",
    "#LOAD\n",
    "# load += boarding - alighting\n",
    "#cumsum()?\n",
    "capacity_df['LOAD_NET'] = capacity_df['BOARDING_ORG']-capacity_df['ALIGHTING_ORG']\n",
    "capacity_df['LOAD'] = capacity_df.groupby(['Trip_id'])['LOAD_NET'].apply(lambda x: x.cumsum())\n",
    "\n",
    "\"\"\"trip_id = 0\n",
    "prev_load = 0\n",
    "for index, row in capacity_df.iterrows():\n",
    "    if row[\"Trip_id\"] != trip_id:\n",
    "        trip_id = row[\"Trip_id\"]\n",
    "        capacity_df.loc[index, \"LOAD\"] = row[\"BOARDING_ORG\"] - row[\"ALIGHTING_ORG\"]\n",
    "    else:\n",
    "        capacity_df.loc[index, \"LOAD\"] = prev_load + row[\"BOARDING_ORG\"] - row[\"ALIGHTING_ORG\"]\n",
    "    prev_load = capacity_df.loc[index, \"LOAD\"]\n",
    "\n",
    "\"\"\"\n"
   ]
  },
  {
   "cell_type": "code",
   "execution_count": 12,
   "metadata": {
    "scrolled": true
   },
   "outputs": [
    {
     "data": {
      "text/html": [
       "<div>\n",
       "<style scoped>\n",
       "    .dataframe tbody tr th:only-of-type {\n",
       "        vertical-align: middle;\n",
       "    }\n",
       "\n",
       "    .dataframe tbody tr th {\n",
       "        vertical-align: top;\n",
       "    }\n",
       "\n",
       "    .dataframe thead th {\n",
       "        text-align: right;\n",
       "    }\n",
       "</style>\n",
       "<table border=\"1\" class=\"dataframe\">\n",
       "  <thead>\n",
       "    <tr style=\"text-align: right;\">\n",
       "      <th></th>\n",
       "      <th>index</th>\n",
       "      <th>Trip_id</th>\n",
       "      <th>OP_DAY</th>\n",
       "      <th>vehicle_no</th>\n",
       "      <th>line_no</th>\n",
       "      <th>ROUTE_DIRECTION</th>\n",
       "      <th>QUAYREF</th>\n",
       "      <th>STOPPLACEREF</th>\n",
       "      <th>STOPPLACENAME</th>\n",
       "      <th>STOP_IDX</th>\n",
       "      <th>ACT_ARR_TIME</th>\n",
       "      <th>ACT_DEP_TIME</th>\n",
       "      <th>BOARDING_ORG</th>\n",
       "      <th>ALIGHTING_ORG</th>\n",
       "      <th>LOAD_NET</th>\n",
       "      <th>LOAD</th>\n",
       "    </tr>\n",
       "  </thead>\n",
       "  <tbody>\n",
       "    <tr>\n",
       "      <th>0</th>\n",
       "      <td>136488</td>\n",
       "      <td>555908637</td>\n",
       "      <td>2020-03-01 00:00:00</td>\n",
       "      <td>101034</td>\n",
       "      <td>37</td>\n",
       "      <td>0</td>\n",
       "      <td>NSR:Quay:11162</td>\n",
       "      <td>NSR:StopPlace:6078</td>\n",
       "      <td>Nydalen T</td>\n",
       "      <td>0</td>\n",
       "      <td>4375</td>\n",
       "      <td>4642</td>\n",
       "      <td>3.0</td>\n",
       "      <td>1.0</td>\n",
       "      <td>2.0</td>\n",
       "      <td>2.0</td>\n",
       "    </tr>\n",
       "    <tr>\n",
       "      <th>1</th>\n",
       "      <td>136489</td>\n",
       "      <td>555908637</td>\n",
       "      <td>2020-03-01 00:00:00</td>\n",
       "      <td>101034</td>\n",
       "      <td>37</td>\n",
       "      <td>0</td>\n",
       "      <td>NSR:Quay:11795</td>\n",
       "      <td>NSR:StopPlace:6418</td>\n",
       "      <td>Kristoffer Aamots gate</td>\n",
       "      <td>1</td>\n",
       "      <td>4697</td>\n",
       "      <td>4697</td>\n",
       "      <td>15.0</td>\n",
       "      <td>0.0</td>\n",
       "      <td>15.0</td>\n",
       "      <td>17.0</td>\n",
       "    </tr>\n",
       "    <tr>\n",
       "      <th>2</th>\n",
       "      <td>136490</td>\n",
       "      <td>555908637</td>\n",
       "      <td>2020-03-01 00:00:00</td>\n",
       "      <td>101034</td>\n",
       "      <td>37</td>\n",
       "      <td>0</td>\n",
       "      <td>NSR:Quay:11725</td>\n",
       "      <td>NSR:StopPlace:6380</td>\n",
       "      <td>Kristoffer Aamots bro</td>\n",
       "      <td>2</td>\n",
       "      <td>4794</td>\n",
       "      <td>4794</td>\n",
       "      <td>0.0</td>\n",
       "      <td>0.0</td>\n",
       "      <td>0.0</td>\n",
       "      <td>17.0</td>\n",
       "    </tr>\n",
       "    <tr>\n",
       "      <th>3</th>\n",
       "      <td>136491</td>\n",
       "      <td>555908637</td>\n",
       "      <td>2020-03-01 00:00:00</td>\n",
       "      <td>101034</td>\n",
       "      <td>37</td>\n",
       "      <td>0</td>\n",
       "      <td>NSR:Quay:11718</td>\n",
       "      <td>NSR:StopPlace:6376</td>\n",
       "      <td>Badebakken</td>\n",
       "      <td>3</td>\n",
       "      <td>4855</td>\n",
       "      <td>4864</td>\n",
       "      <td>1.0</td>\n",
       "      <td>0.0</td>\n",
       "      <td>1.0</td>\n",
       "      <td>18.0</td>\n",
       "    </tr>\n",
       "    <tr>\n",
       "      <th>4</th>\n",
       "      <td>136492</td>\n",
       "      <td>555908637</td>\n",
       "      <td>2020-03-01 00:00:00</td>\n",
       "      <td>101034</td>\n",
       "      <td>37</td>\n",
       "      <td>0</td>\n",
       "      <td>NSR:Quay:11703</td>\n",
       "      <td>NSR:StopPlace:6369</td>\n",
       "      <td>Bjølsen</td>\n",
       "      <td>4</td>\n",
       "      <td>4937</td>\n",
       "      <td>4958</td>\n",
       "      <td>3.0</td>\n",
       "      <td>3.0</td>\n",
       "      <td>0.0</td>\n",
       "      <td>18.0</td>\n",
       "    </tr>\n",
       "  </tbody>\n",
       "</table>\n",
       "</div>"
      ],
      "text/plain": [
       "    index    Trip_id               OP_DAY  vehicle_no  line_no  \\\n",
       "0  136488  555908637  2020-03-01 00:00:00      101034       37   \n",
       "1  136489  555908637  2020-03-01 00:00:00      101034       37   \n",
       "2  136490  555908637  2020-03-01 00:00:00      101034       37   \n",
       "3  136491  555908637  2020-03-01 00:00:00      101034       37   \n",
       "4  136492  555908637  2020-03-01 00:00:00      101034       37   \n",
       "\n",
       "   ROUTE_DIRECTION         QUAYREF        STOPPLACEREF  \\\n",
       "0                0  NSR:Quay:11162  NSR:StopPlace:6078   \n",
       "1                0  NSR:Quay:11795  NSR:StopPlace:6418   \n",
       "2                0  NSR:Quay:11725  NSR:StopPlace:6380   \n",
       "3                0  NSR:Quay:11718  NSR:StopPlace:6376   \n",
       "4                0  NSR:Quay:11703  NSR:StopPlace:6369   \n",
       "\n",
       "            STOPPLACENAME  STOP_IDX  ACT_ARR_TIME  ACT_DEP_TIME  BOARDING_ORG  \\\n",
       "0               Nydalen T         0          4375          4642           3.0   \n",
       "1  Kristoffer Aamots gate         1          4697          4697          15.0   \n",
       "2   Kristoffer Aamots bro         2          4794          4794           0.0   \n",
       "3              Badebakken         3          4855          4864           1.0   \n",
       "4                 Bjølsen         4          4937          4958           3.0   \n",
       "\n",
       "   ALIGHTING_ORG  LOAD_NET  LOAD  \n",
       "0            1.0       2.0   2.0  \n",
       "1            0.0      15.0  17.0  \n",
       "2            0.0       0.0  17.0  \n",
       "3            0.0       1.0  18.0  \n",
       "4            3.0       0.0  18.0  "
      ]
     },
     "execution_count": 12,
     "metadata": {},
     "output_type": "execute_result"
    }
   ],
   "source": [
    "capacity_df.head()"
   ]
  },
  {
   "cell_type": "code",
   "execution_count": 13,
   "metadata": {},
   "outputs": [],
   "source": [
    "# SAMPLE\n",
    "#sample_capacity_df = capacity_df[0:100000]"
   ]
  },
  {
   "cell_type": "code",
   "execution_count": 14,
   "metadata": {
    "scrolled": true
   },
   "outputs": [
    {
     "name": "stdout",
     "output_type": "stream",
     "text": [
      "CPU times: user 218 ms, sys: 17.5 ms, total: 236 ms\n",
      "Wall time: 235 ms\n"
     ]
    }
   ],
   "source": [
    "%%time\n",
    "# converts 'LOAD'data of passengers to a binomial factor labeled 'CAPACITY'\n",
    "#- 0 if bus capacity is equal or less than 50 %.\n",
    "#- 1 if bus is greater than 50 %.\n",
    "\n",
    "capacity_df['CAPACITY'] = capacity_df['LOAD'].apply(lambda x: 1 if x >=50 else 0)\n",
    "\n",
    "\n"
   ]
  },
  {
   "cell_type": "code",
   "execution_count": 15,
   "metadata": {},
   "outputs": [
    {
     "name": "stdout",
     "output_type": "stream",
     "text": [
      "CPU times: user 67.3 ms, sys: 42.9 ms, total: 110 ms\n",
      "Wall time: 109 ms\n"
     ]
    }
   ],
   "source": [
    "%%time\n",
    "# move cell for capacity 1 row below i.e. predict capacity for 1 bus stop ahead\n",
    "# \n",
    "\n",
    "capacity_df['capacity_1_forward'] = capacity_df.groupby('Trip_id')['CAPACITY'].shift(-1)\n",
    "\n"
   ]
  },
  {
   "cell_type": "code",
   "execution_count": 16,
   "metadata": {},
   "outputs": [],
   "source": [
    "#assuming that capacity at last bus stop equals to zero:\n",
    "capacity_df[\"capacity_1_forward\"].fillna(0, inplace = True) "
   ]
  },
  {
   "cell_type": "code",
   "execution_count": 17,
   "metadata": {},
   "outputs": [
    {
     "data": {
      "text/html": [
       "<div>\n",
       "<style scoped>\n",
       "    .dataframe tbody tr th:only-of-type {\n",
       "        vertical-align: middle;\n",
       "    }\n",
       "\n",
       "    .dataframe tbody tr th {\n",
       "        vertical-align: top;\n",
       "    }\n",
       "\n",
       "    .dataframe thead th {\n",
       "        text-align: right;\n",
       "    }\n",
       "</style>\n",
       "<table border=\"1\" class=\"dataframe\">\n",
       "  <thead>\n",
       "    <tr style=\"text-align: right;\">\n",
       "      <th></th>\n",
       "      <th>index</th>\n",
       "      <th>Trip_id</th>\n",
       "      <th>OP_DAY</th>\n",
       "      <th>vehicle_no</th>\n",
       "      <th>line_no</th>\n",
       "      <th>ROUTE_DIRECTION</th>\n",
       "      <th>QUAYREF</th>\n",
       "      <th>STOPPLACEREF</th>\n",
       "      <th>STOPPLACENAME</th>\n",
       "      <th>STOP_IDX</th>\n",
       "      <th>ACT_ARR_TIME</th>\n",
       "      <th>ACT_DEP_TIME</th>\n",
       "      <th>BOARDING_ORG</th>\n",
       "      <th>ALIGHTING_ORG</th>\n",
       "      <th>LOAD_NET</th>\n",
       "      <th>LOAD</th>\n",
       "      <th>CAPACITY</th>\n",
       "      <th>capacity_1_forward</th>\n",
       "    </tr>\n",
       "  </thead>\n",
       "  <tbody>\n",
       "    <tr>\n",
       "      <th>0</th>\n",
       "      <td>136488</td>\n",
       "      <td>555908637</td>\n",
       "      <td>2020-03-01 00:00:00</td>\n",
       "      <td>101034</td>\n",
       "      <td>37</td>\n",
       "      <td>0</td>\n",
       "      <td>NSR:Quay:11162</td>\n",
       "      <td>NSR:StopPlace:6078</td>\n",
       "      <td>Nydalen T</td>\n",
       "      <td>0</td>\n",
       "      <td>4375</td>\n",
       "      <td>4642</td>\n",
       "      <td>3.0</td>\n",
       "      <td>1.0</td>\n",
       "      <td>2.0</td>\n",
       "      <td>2.0</td>\n",
       "      <td>0</td>\n",
       "      <td>0.0</td>\n",
       "    </tr>\n",
       "    <tr>\n",
       "      <th>1</th>\n",
       "      <td>136489</td>\n",
       "      <td>555908637</td>\n",
       "      <td>2020-03-01 00:00:00</td>\n",
       "      <td>101034</td>\n",
       "      <td>37</td>\n",
       "      <td>0</td>\n",
       "      <td>NSR:Quay:11795</td>\n",
       "      <td>NSR:StopPlace:6418</td>\n",
       "      <td>Kristoffer Aamots gate</td>\n",
       "      <td>1</td>\n",
       "      <td>4697</td>\n",
       "      <td>4697</td>\n",
       "      <td>15.0</td>\n",
       "      <td>0.0</td>\n",
       "      <td>15.0</td>\n",
       "      <td>17.0</td>\n",
       "      <td>0</td>\n",
       "      <td>0.0</td>\n",
       "    </tr>\n",
       "    <tr>\n",
       "      <th>2</th>\n",
       "      <td>136490</td>\n",
       "      <td>555908637</td>\n",
       "      <td>2020-03-01 00:00:00</td>\n",
       "      <td>101034</td>\n",
       "      <td>37</td>\n",
       "      <td>0</td>\n",
       "      <td>NSR:Quay:11725</td>\n",
       "      <td>NSR:StopPlace:6380</td>\n",
       "      <td>Kristoffer Aamots bro</td>\n",
       "      <td>2</td>\n",
       "      <td>4794</td>\n",
       "      <td>4794</td>\n",
       "      <td>0.0</td>\n",
       "      <td>0.0</td>\n",
       "      <td>0.0</td>\n",
       "      <td>17.0</td>\n",
       "      <td>0</td>\n",
       "      <td>0.0</td>\n",
       "    </tr>\n",
       "    <tr>\n",
       "      <th>3</th>\n",
       "      <td>136491</td>\n",
       "      <td>555908637</td>\n",
       "      <td>2020-03-01 00:00:00</td>\n",
       "      <td>101034</td>\n",
       "      <td>37</td>\n",
       "      <td>0</td>\n",
       "      <td>NSR:Quay:11718</td>\n",
       "      <td>NSR:StopPlace:6376</td>\n",
       "      <td>Badebakken</td>\n",
       "      <td>3</td>\n",
       "      <td>4855</td>\n",
       "      <td>4864</td>\n",
       "      <td>1.0</td>\n",
       "      <td>0.0</td>\n",
       "      <td>1.0</td>\n",
       "      <td>18.0</td>\n",
       "      <td>0</td>\n",
       "      <td>0.0</td>\n",
       "    </tr>\n",
       "    <tr>\n",
       "      <th>4</th>\n",
       "      <td>136492</td>\n",
       "      <td>555908637</td>\n",
       "      <td>2020-03-01 00:00:00</td>\n",
       "      <td>101034</td>\n",
       "      <td>37</td>\n",
       "      <td>0</td>\n",
       "      <td>NSR:Quay:11703</td>\n",
       "      <td>NSR:StopPlace:6369</td>\n",
       "      <td>Bjølsen</td>\n",
       "      <td>4</td>\n",
       "      <td>4937</td>\n",
       "      <td>4958</td>\n",
       "      <td>3.0</td>\n",
       "      <td>3.0</td>\n",
       "      <td>0.0</td>\n",
       "      <td>18.0</td>\n",
       "      <td>0</td>\n",
       "      <td>0.0</td>\n",
       "    </tr>\n",
       "  </tbody>\n",
       "</table>\n",
       "</div>"
      ],
      "text/plain": [
       "    index    Trip_id               OP_DAY  vehicle_no  line_no  \\\n",
       "0  136488  555908637  2020-03-01 00:00:00      101034       37   \n",
       "1  136489  555908637  2020-03-01 00:00:00      101034       37   \n",
       "2  136490  555908637  2020-03-01 00:00:00      101034       37   \n",
       "3  136491  555908637  2020-03-01 00:00:00      101034       37   \n",
       "4  136492  555908637  2020-03-01 00:00:00      101034       37   \n",
       "\n",
       "   ROUTE_DIRECTION         QUAYREF        STOPPLACEREF  \\\n",
       "0                0  NSR:Quay:11162  NSR:StopPlace:6078   \n",
       "1                0  NSR:Quay:11795  NSR:StopPlace:6418   \n",
       "2                0  NSR:Quay:11725  NSR:StopPlace:6380   \n",
       "3                0  NSR:Quay:11718  NSR:StopPlace:6376   \n",
       "4                0  NSR:Quay:11703  NSR:StopPlace:6369   \n",
       "\n",
       "            STOPPLACENAME  STOP_IDX  ACT_ARR_TIME  ACT_DEP_TIME  BOARDING_ORG  \\\n",
       "0               Nydalen T         0          4375          4642           3.0   \n",
       "1  Kristoffer Aamots gate         1          4697          4697          15.0   \n",
       "2   Kristoffer Aamots bro         2          4794          4794           0.0   \n",
       "3              Badebakken         3          4855          4864           1.0   \n",
       "4                 Bjølsen         4          4937          4958           3.0   \n",
       "\n",
       "   ALIGHTING_ORG  LOAD_NET  LOAD  CAPACITY  capacity_1_forward  \n",
       "0            1.0       2.0   2.0         0                 0.0  \n",
       "1            0.0      15.0  17.0         0                 0.0  \n",
       "2            0.0       0.0  17.0         0                 0.0  \n",
       "3            0.0       1.0  18.0         0                 0.0  \n",
       "4            3.0       0.0  18.0         0                 0.0  "
      ]
     },
     "execution_count": 17,
     "metadata": {},
     "output_type": "execute_result"
    }
   ],
   "source": [
    "capacity_df.head()"
   ]
  },
  {
   "cell_type": "code",
   "execution_count": 18,
   "metadata": {},
   "outputs": [
    {
     "data": {
      "text/plain": [
       "0    572580\n",
       "1      5297\n",
       "Name: CAPACITY, dtype: int64"
      ]
     },
     "execution_count": 18,
     "metadata": {},
     "output_type": "execute_result"
    }
   ],
   "source": [
    "capacity_df['CAPACITY'].value_counts()"
   ]
  },
  {
   "cell_type": "code",
   "execution_count": 19,
   "metadata": {},
   "outputs": [
    {
     "data": {
      "text/html": [
       "<div>\n",
       "<style scoped>\n",
       "    .dataframe tbody tr th:only-of-type {\n",
       "        vertical-align: middle;\n",
       "    }\n",
       "\n",
       "    .dataframe tbody tr th {\n",
       "        vertical-align: top;\n",
       "    }\n",
       "\n",
       "    .dataframe thead th {\n",
       "        text-align: right;\n",
       "    }\n",
       "</style>\n",
       "<table border=\"1\" class=\"dataframe\">\n",
       "  <thead>\n",
       "    <tr style=\"text-align: right;\">\n",
       "      <th></th>\n",
       "      <th>WEEKDAY</th>\n",
       "    </tr>\n",
       "  </thead>\n",
       "  <tbody>\n",
       "    <tr>\n",
       "      <th>0</th>\n",
       "      <td>Sunday</td>\n",
       "    </tr>\n",
       "    <tr>\n",
       "      <th>1</th>\n",
       "      <td>Sunday</td>\n",
       "    </tr>\n",
       "    <tr>\n",
       "      <th>2</th>\n",
       "      <td>Sunday</td>\n",
       "    </tr>\n",
       "    <tr>\n",
       "      <th>3</th>\n",
       "      <td>Sunday</td>\n",
       "    </tr>\n",
       "    <tr>\n",
       "      <th>4</th>\n",
       "      <td>Sunday</td>\n",
       "    </tr>\n",
       "  </tbody>\n",
       "</table>\n",
       "</div>"
      ],
      "text/plain": [
       "  WEEKDAY\n",
       "0  Sunday\n",
       "1  Sunday\n",
       "2  Sunday\n",
       "3  Sunday\n",
       "4  Sunday"
      ]
     },
     "execution_count": 19,
     "metadata": {},
     "output_type": "execute_result"
    }
   ],
   "source": [
    "\"\"\"converts date to weekday\"\"\"\n",
    "\n",
    "def convert_date_to_weekday(date):\n",
    "    a = capacity_df[date].astype(str).str[0:10]\n",
    "    a = pd.to_datetime(a)\n",
    "    a = a.dt.day_name()\n",
    "    return a\n",
    "\n",
    "date_converted = convert_date_to_weekday('OP_DAY')\n",
    "date_df = pd.DataFrame(date_converted)\n",
    "\n",
    "date_df = date_df.rename(columns={\"OP_DAY\":\"WEEKDAY\"})\n",
    "date_df.head()"
   ]
  },
  {
   "cell_type": "code",
   "execution_count": 20,
   "metadata": {},
   "outputs": [
    {
     "data": {
      "text/html": [
       "<div>\n",
       "<style scoped>\n",
       "    .dataframe tbody tr th:only-of-type {\n",
       "        vertical-align: middle;\n",
       "    }\n",
       "\n",
       "    .dataframe tbody tr th {\n",
       "        vertical-align: top;\n",
       "    }\n",
       "\n",
       "    .dataframe thead th {\n",
       "        text-align: right;\n",
       "    }\n",
       "</style>\n",
       "<table border=\"1\" class=\"dataframe\">\n",
       "  <thead>\n",
       "    <tr style=\"text-align: right;\">\n",
       "      <th></th>\n",
       "      <th>Friday</th>\n",
       "      <th>Monday</th>\n",
       "      <th>Saturday</th>\n",
       "      <th>Sunday</th>\n",
       "      <th>Thursday</th>\n",
       "      <th>Tuesday</th>\n",
       "      <th>Wednesday</th>\n",
       "    </tr>\n",
       "  </thead>\n",
       "  <tbody>\n",
       "    <tr>\n",
       "      <th>0</th>\n",
       "      <td>0</td>\n",
       "      <td>0</td>\n",
       "      <td>0</td>\n",
       "      <td>1</td>\n",
       "      <td>0</td>\n",
       "      <td>0</td>\n",
       "      <td>0</td>\n",
       "    </tr>\n",
       "    <tr>\n",
       "      <th>1</th>\n",
       "      <td>0</td>\n",
       "      <td>0</td>\n",
       "      <td>0</td>\n",
       "      <td>1</td>\n",
       "      <td>0</td>\n",
       "      <td>0</td>\n",
       "      <td>0</td>\n",
       "    </tr>\n",
       "    <tr>\n",
       "      <th>2</th>\n",
       "      <td>0</td>\n",
       "      <td>0</td>\n",
       "      <td>0</td>\n",
       "      <td>1</td>\n",
       "      <td>0</td>\n",
       "      <td>0</td>\n",
       "      <td>0</td>\n",
       "    </tr>\n",
       "    <tr>\n",
       "      <th>3</th>\n",
       "      <td>0</td>\n",
       "      <td>0</td>\n",
       "      <td>0</td>\n",
       "      <td>1</td>\n",
       "      <td>0</td>\n",
       "      <td>0</td>\n",
       "      <td>0</td>\n",
       "    </tr>\n",
       "    <tr>\n",
       "      <th>4</th>\n",
       "      <td>0</td>\n",
       "      <td>0</td>\n",
       "      <td>0</td>\n",
       "      <td>1</td>\n",
       "      <td>0</td>\n",
       "      <td>0</td>\n",
       "      <td>0</td>\n",
       "    </tr>\n",
       "  </tbody>\n",
       "</table>\n",
       "</div>"
      ],
      "text/plain": [
       "   Friday  Monday  Saturday  Sunday  Thursday  Tuesday  Wednesday\n",
       "0       0       0         0       1         0        0          0\n",
       "1       0       0         0       1         0        0          0\n",
       "2       0       0         0       1         0        0          0\n",
       "3       0       0         0       1         0        0          0\n",
       "4       0       0         0       1         0        0          0"
      ]
     },
     "execution_count": 20,
     "metadata": {},
     "output_type": "execute_result"
    }
   ],
   "source": [
    "weekday_dummy_df = pd.get_dummies(date_df['WEEKDAY']).astype(np.int64)\n",
    "weekday_dummy_df.head()"
   ]
  },
  {
   "cell_type": "code",
   "execution_count": 21,
   "metadata": {},
   "outputs": [
    {
     "data": {
      "text/html": [
       "<div>\n",
       "<style scoped>\n",
       "    .dataframe tbody tr th:only-of-type {\n",
       "        vertical-align: middle;\n",
       "    }\n",
       "\n",
       "    .dataframe tbody tr th {\n",
       "        vertical-align: top;\n",
       "    }\n",
       "\n",
       "    .dataframe thead th {\n",
       "        text-align: right;\n",
       "    }\n",
       "</style>\n",
       "<table border=\"1\" class=\"dataframe\">\n",
       "  <thead>\n",
       "    <tr style=\"text-align: right;\">\n",
       "      <th></th>\n",
       "      <th>index</th>\n",
       "      <th>Trip_id</th>\n",
       "      <th>OP_DAY</th>\n",
       "      <th>vehicle_no</th>\n",
       "      <th>line_no</th>\n",
       "      <th>ROUTE_DIRECTION</th>\n",
       "      <th>QUAYREF</th>\n",
       "      <th>STOPPLACEREF</th>\n",
       "      <th>STOPPLACENAME</th>\n",
       "      <th>STOP_IDX</th>\n",
       "      <th>ACT_ARR_TIME</th>\n",
       "      <th>ACT_DEP_TIME</th>\n",
       "      <th>BOARDING_ORG</th>\n",
       "      <th>ALIGHTING_ORG</th>\n",
       "      <th>LOAD_NET</th>\n",
       "      <th>LOAD</th>\n",
       "      <th>CAPACITY</th>\n",
       "      <th>capacity_1_forward</th>\n",
       "      <th>Friday</th>\n",
       "      <th>Monday</th>\n",
       "      <th>Saturday</th>\n",
       "      <th>Sunday</th>\n",
       "      <th>Thursday</th>\n",
       "      <th>Tuesday</th>\n",
       "      <th>Wednesday</th>\n",
       "    </tr>\n",
       "  </thead>\n",
       "  <tbody>\n",
       "    <tr>\n",
       "      <th>0</th>\n",
       "      <td>136488</td>\n",
       "      <td>555908637</td>\n",
       "      <td>2020-03-01 00:00:00</td>\n",
       "      <td>101034</td>\n",
       "      <td>37</td>\n",
       "      <td>0</td>\n",
       "      <td>NSR:Quay:11162</td>\n",
       "      <td>NSR:StopPlace:6078</td>\n",
       "      <td>Nydalen T</td>\n",
       "      <td>0</td>\n",
       "      <td>4375</td>\n",
       "      <td>4642</td>\n",
       "      <td>3.0</td>\n",
       "      <td>1.0</td>\n",
       "      <td>2.0</td>\n",
       "      <td>2.0</td>\n",
       "      <td>0</td>\n",
       "      <td>0.0</td>\n",
       "      <td>0</td>\n",
       "      <td>0</td>\n",
       "      <td>0</td>\n",
       "      <td>1</td>\n",
       "      <td>0</td>\n",
       "      <td>0</td>\n",
       "      <td>0</td>\n",
       "    </tr>\n",
       "    <tr>\n",
       "      <th>1</th>\n",
       "      <td>136489</td>\n",
       "      <td>555908637</td>\n",
       "      <td>2020-03-01 00:00:00</td>\n",
       "      <td>101034</td>\n",
       "      <td>37</td>\n",
       "      <td>0</td>\n",
       "      <td>NSR:Quay:11795</td>\n",
       "      <td>NSR:StopPlace:6418</td>\n",
       "      <td>Kristoffer Aamots gate</td>\n",
       "      <td>1</td>\n",
       "      <td>4697</td>\n",
       "      <td>4697</td>\n",
       "      <td>15.0</td>\n",
       "      <td>0.0</td>\n",
       "      <td>15.0</td>\n",
       "      <td>17.0</td>\n",
       "      <td>0</td>\n",
       "      <td>0.0</td>\n",
       "      <td>0</td>\n",
       "      <td>0</td>\n",
       "      <td>0</td>\n",
       "      <td>1</td>\n",
       "      <td>0</td>\n",
       "      <td>0</td>\n",
       "      <td>0</td>\n",
       "    </tr>\n",
       "    <tr>\n",
       "      <th>2</th>\n",
       "      <td>136490</td>\n",
       "      <td>555908637</td>\n",
       "      <td>2020-03-01 00:00:00</td>\n",
       "      <td>101034</td>\n",
       "      <td>37</td>\n",
       "      <td>0</td>\n",
       "      <td>NSR:Quay:11725</td>\n",
       "      <td>NSR:StopPlace:6380</td>\n",
       "      <td>Kristoffer Aamots bro</td>\n",
       "      <td>2</td>\n",
       "      <td>4794</td>\n",
       "      <td>4794</td>\n",
       "      <td>0.0</td>\n",
       "      <td>0.0</td>\n",
       "      <td>0.0</td>\n",
       "      <td>17.0</td>\n",
       "      <td>0</td>\n",
       "      <td>0.0</td>\n",
       "      <td>0</td>\n",
       "      <td>0</td>\n",
       "      <td>0</td>\n",
       "      <td>1</td>\n",
       "      <td>0</td>\n",
       "      <td>0</td>\n",
       "      <td>0</td>\n",
       "    </tr>\n",
       "    <tr>\n",
       "      <th>3</th>\n",
       "      <td>136491</td>\n",
       "      <td>555908637</td>\n",
       "      <td>2020-03-01 00:00:00</td>\n",
       "      <td>101034</td>\n",
       "      <td>37</td>\n",
       "      <td>0</td>\n",
       "      <td>NSR:Quay:11718</td>\n",
       "      <td>NSR:StopPlace:6376</td>\n",
       "      <td>Badebakken</td>\n",
       "      <td>3</td>\n",
       "      <td>4855</td>\n",
       "      <td>4864</td>\n",
       "      <td>1.0</td>\n",
       "      <td>0.0</td>\n",
       "      <td>1.0</td>\n",
       "      <td>18.0</td>\n",
       "      <td>0</td>\n",
       "      <td>0.0</td>\n",
       "      <td>0</td>\n",
       "      <td>0</td>\n",
       "      <td>0</td>\n",
       "      <td>1</td>\n",
       "      <td>0</td>\n",
       "      <td>0</td>\n",
       "      <td>0</td>\n",
       "    </tr>\n",
       "    <tr>\n",
       "      <th>4</th>\n",
       "      <td>136492</td>\n",
       "      <td>555908637</td>\n",
       "      <td>2020-03-01 00:00:00</td>\n",
       "      <td>101034</td>\n",
       "      <td>37</td>\n",
       "      <td>0</td>\n",
       "      <td>NSR:Quay:11703</td>\n",
       "      <td>NSR:StopPlace:6369</td>\n",
       "      <td>Bjølsen</td>\n",
       "      <td>4</td>\n",
       "      <td>4937</td>\n",
       "      <td>4958</td>\n",
       "      <td>3.0</td>\n",
       "      <td>3.0</td>\n",
       "      <td>0.0</td>\n",
       "      <td>18.0</td>\n",
       "      <td>0</td>\n",
       "      <td>0.0</td>\n",
       "      <td>0</td>\n",
       "      <td>0</td>\n",
       "      <td>0</td>\n",
       "      <td>1</td>\n",
       "      <td>0</td>\n",
       "      <td>0</td>\n",
       "      <td>0</td>\n",
       "    </tr>\n",
       "  </tbody>\n",
       "</table>\n",
       "</div>"
      ],
      "text/plain": [
       "    index    Trip_id               OP_DAY  vehicle_no  line_no  \\\n",
       "0  136488  555908637  2020-03-01 00:00:00      101034       37   \n",
       "1  136489  555908637  2020-03-01 00:00:00      101034       37   \n",
       "2  136490  555908637  2020-03-01 00:00:00      101034       37   \n",
       "3  136491  555908637  2020-03-01 00:00:00      101034       37   \n",
       "4  136492  555908637  2020-03-01 00:00:00      101034       37   \n",
       "\n",
       "   ROUTE_DIRECTION         QUAYREF        STOPPLACEREF  \\\n",
       "0                0  NSR:Quay:11162  NSR:StopPlace:6078   \n",
       "1                0  NSR:Quay:11795  NSR:StopPlace:6418   \n",
       "2                0  NSR:Quay:11725  NSR:StopPlace:6380   \n",
       "3                0  NSR:Quay:11718  NSR:StopPlace:6376   \n",
       "4                0  NSR:Quay:11703  NSR:StopPlace:6369   \n",
       "\n",
       "            STOPPLACENAME  STOP_IDX  ACT_ARR_TIME  ACT_DEP_TIME  BOARDING_ORG  \\\n",
       "0               Nydalen T         0          4375          4642           3.0   \n",
       "1  Kristoffer Aamots gate         1          4697          4697          15.0   \n",
       "2   Kristoffer Aamots bro         2          4794          4794           0.0   \n",
       "3              Badebakken         3          4855          4864           1.0   \n",
       "4                 Bjølsen         4          4937          4958           3.0   \n",
       "\n",
       "   ALIGHTING_ORG  LOAD_NET  LOAD  CAPACITY  capacity_1_forward  Friday  \\\n",
       "0            1.0       2.0   2.0         0                 0.0       0   \n",
       "1            0.0      15.0  17.0         0                 0.0       0   \n",
       "2            0.0       0.0  17.0         0                 0.0       0   \n",
       "3            0.0       1.0  18.0         0                 0.0       0   \n",
       "4            3.0       0.0  18.0         0                 0.0       0   \n",
       "\n",
       "   Monday  Saturday  Sunday  Thursday  Tuesday  Wednesday  \n",
       "0       0         0       1         0        0          0  \n",
       "1       0         0       1         0        0          0  \n",
       "2       0         0       1         0        0          0  \n",
       "3       0         0       1         0        0          0  \n",
       "4       0         0       1         0        0          0  "
      ]
     },
     "execution_count": 21,
     "metadata": {},
     "output_type": "execute_result"
    }
   ],
   "source": [
    "# merge dataframe 'capacity_df' with dataframe for weekdays.\n",
    "capacity_df = pd.concat([capacity_df, pd.get_dummies(date_df['WEEKDAY']).astype(np.int64)], axis=1)\n",
    "capacity_df.head()"
   ]
  },
  {
   "cell_type": "markdown",
   "metadata": {},
   "source": [
    "### Visualization"
   ]
  },
  {
   "cell_type": "code",
   "execution_count": 22,
   "metadata": {},
   "outputs": [],
   "source": [
    "#import matplotlib.pyplot as plt\n",
    "#fig, ax = plt.subplots(figsize=(15,7))\n",
    "# use unstack()\n"
   ]
  },
  {
   "cell_type": "markdown",
   "metadata": {},
   "source": [
    "### Defining X, and y for dataset"
   ]
  },
  {
   "cell_type": "code",
   "execution_count": 23,
   "metadata": {},
   "outputs": [
    {
     "data": {
      "text/plain": [
       "array([[ 1.,  3.,  2.,  0.,  0.,  0.,  0.,  0.,  0.,  1.],\n",
       "       [ 0., 15., 17.,  0.,  0.,  0.,  0.,  0.,  0.,  1.],\n",
       "       [ 0.,  0., 17.,  0.,  0.,  0.,  0.,  0.,  0.,  1.],\n",
       "       [ 0.,  1., 18.,  0.,  0.,  0.,  0.,  0.,  0.,  1.],\n",
       "       [ 3.,  3., 18.,  0.,  0.,  0.,  0.,  0.,  0.,  1.]])"
      ]
     },
     "execution_count": 23,
     "metadata": {},
     "output_type": "execute_result"
    }
   ],
   "source": [
    "# define X as independent variabel for dataset\n",
    "X = np.asarray(capacity_df[['ALIGHTING_ORG', 'BOARDING_ORG', 'LOAD','Monday','Tuesday','Wednesday','Thursday','Friday', 'Saturday','Sunday']])\n",
    "#X = np.asarray(capacity_df[['LOAD']])\n",
    "X[0:5]"
   ]
  },
  {
   "cell_type": "code",
   "execution_count": 24,
   "metadata": {},
   "outputs": [
    {
     "data": {
      "text/plain": [
       "array([0., 0., 0., 0., 0.])"
      ]
     },
     "execution_count": 24,
     "metadata": {},
     "output_type": "execute_result"
    }
   ],
   "source": [
    "# define y as dependent variabel for dataset\n",
    "y = np.asarray(capacity_df['capacity_1_forward'])\n",
    "y [0:5]"
   ]
  },
  {
   "cell_type": "code",
   "execution_count": 25,
   "metadata": {
    "scrolled": true
   },
   "outputs": [
    {
     "data": {
      "text/plain": [
       "array([[-0.17588595,  0.57225132, -0.70357876, -0.42340977, -0.43151344,\n",
       "        -0.4297657 , -0.42819921, -0.42063251, -0.37287731,  2.87753073],\n",
       "       [-0.54498426,  5.00495139,  0.7985655 , -0.42340977, -0.43151344,\n",
       "        -0.4297657 , -0.42819921, -0.42063251, -0.37287731,  2.87753073],\n",
       "       [-0.54498426, -0.5359237 ,  0.7985655 , -0.42340977, -0.43151344,\n",
       "        -0.4297657 , -0.42819921, -0.42063251, -0.37287731,  2.87753073],\n",
       "       [-0.54498426, -0.16653202,  0.89870845, -0.42340977, -0.43151344,\n",
       "        -0.4297657 , -0.42819921, -0.42063251, -0.37287731,  2.87753073],\n",
       "       [ 0.56231066,  0.57225132,  0.89870845, -0.42340977, -0.43151344,\n",
       "        -0.4297657 , -0.42819921, -0.42063251, -0.37287731,  2.87753073]])"
      ]
     },
     "execution_count": 25,
     "metadata": {},
     "output_type": "execute_result"
    }
   ],
   "source": [
    "# Normalize the dataset\n",
    "X = preprocessing.StandardScaler().fit(X).transform(X)\n",
    "X[0:5]"
   ]
  },
  {
   "cell_type": "markdown",
   "metadata": {},
   "source": [
    "## Modeling (Logistic Regression with Scikit-learn)"
   ]
  },
  {
   "cell_type": "code",
   "execution_count": 26,
   "metadata": {},
   "outputs": [
    {
     "name": "stdout",
     "output_type": "stream",
     "text": [
      "Train set: (462301, 10) (462301,)\n",
      "Test set: (115576, 10) (115576,)\n"
     ]
    }
   ],
   "source": [
    "#split dataset into train and test set. train size = 80 %, test_size = 20 %\n",
    "from sklearn.model_selection import train_test_split\n",
    "X_train, X_test, y_train, y_test = train_test_split( X, y, test_size=0.2, random_state=4)\n",
    "print ('Train set:', X_train.shape,  y_train.shape)\n",
    "print ('Test set:', X_test.shape,  y_test.shape)"
   ]
  },
  {
   "cell_type": "code",
   "execution_count": 27,
   "metadata": {},
   "outputs": [
    {
     "data": {
      "text/plain": [
       "LogisticRegression(C=1, class_weight=None, dual=False, fit_intercept=True,\n",
       "                   intercept_scaling=1, l1_ratio=None, max_iter=100,\n",
       "                   multi_class='auto', n_jobs=None, penalty='l2',\n",
       "                   random_state=None, solver='liblinear', tol=0.0001, verbose=0,\n",
       "                   warm_start=False)"
      ]
     },
     "execution_count": 27,
     "metadata": {},
     "output_type": "execute_result"
    }
   ],
   "source": [
    "#C parameter indicates inverse of regularization strength\n",
    "#C = 0.01\n",
    "\n",
    "from sklearn.linear_model import LogisticRegression\n",
    "from sklearn.metrics import confusion_matrix\n",
    "LR = LogisticRegression(C=1, solver='liblinear').fit(X_train,y_train)\n",
    "LR"
   ]
  },
  {
   "cell_type": "code",
   "execution_count": 28,
   "metadata": {},
   "outputs": [
    {
     "data": {
      "text/plain": [
       "array([0., 0., 0., ..., 0., 0., 0.])"
      ]
     },
     "execution_count": 28,
     "metadata": {},
     "output_type": "execute_result"
    }
   ],
   "source": [
    "# predict using the test set\n",
    "yhat = LR.predict(X_test)\n",
    "yhat"
   ]
  },
  {
   "cell_type": "code",
   "execution_count": 29,
   "metadata": {},
   "outputs": [
    {
     "data": {
      "text/plain": [
       "array([[9.99991171e-01, 8.82930120e-06],\n",
       "       [9.99971758e-01, 2.82420474e-05],\n",
       "       [9.99989940e-01, 1.00604004e-05],\n",
       "       ...,\n",
       "       [9.99996751e-01, 3.24947365e-06],\n",
       "       [9.99997608e-01, 2.39242544e-06],\n",
       "       [9.98702512e-01, 1.29748841e-03]])"
      ]
     },
     "execution_count": 29,
     "metadata": {},
     "output_type": "execute_result"
    }
   ],
   "source": [
    "#__predict_proba__ returns estimates for all classes, ordered by the label of classes. \n",
    "#So, the first column is the probability of class 1, P(Y=1|X),\n",
    "#and second column is probability of class 0, P(Y=0|X):\"\"\"\n",
    "\n",
    "yhat_prob = LR.predict_proba(X_test)\n",
    "yhat_prob"
   ]
  },
  {
   "cell_type": "code",
   "execution_count": 30,
   "metadata": {},
   "outputs": [
    {
     "data": {
      "text/plain": [
       "(115576, 2)"
      ]
     },
     "execution_count": 30,
     "metadata": {},
     "output_type": "execute_result"
    }
   ],
   "source": [
    "yhat_prob.shape"
   ]
  },
  {
   "cell_type": "code",
   "execution_count": 31,
   "metadata": {},
   "outputs": [],
   "source": [
    "# jaccard similarity score\n",
    "#from sklearn.metrics import jaccard_similarity_score\n",
    "#jaccard_similarity_score(y_test, yhat) \n"
   ]
  },
  {
   "cell_type": "code",
   "execution_count": 32,
   "metadata": {},
   "outputs": [
    {
     "data": {
      "text/plain": [
       "0.6397058823529411"
      ]
     },
     "execution_count": 32,
     "metadata": {},
     "output_type": "execute_result"
    }
   ],
   "source": [
    "# jaccard score\n",
    "from sklearn.metrics import jaccard_score\n",
    "jaccard_score(y_test, yhat)\n"
   ]
  },
  {
   "cell_type": "code",
   "execution_count": 33,
   "metadata": {},
   "outputs": [
    {
     "data": {
      "text/plain": [
       "0.9961843289264207"
      ]
     },
     "execution_count": 33,
     "metadata": {},
     "output_type": "execute_result"
    }
   ],
   "source": [
    "# accurary score\n",
    "from sklearn.metrics import accuracy_score\n",
    "accuracy_score(y_test, yhat)"
   ]
  },
  {
   "cell_type": "markdown",
   "metadata": {},
   "source": [
    "### Confusion matrix"
   ]
  },
  {
   "cell_type": "code",
   "execution_count": 34,
   "metadata": {},
   "outputs": [
    {
     "name": "stdout",
     "output_type": "stream",
     "text": [
      "[[   783    288]\n",
      " [   153 114352]]\n"
     ]
    }
   ],
   "source": [
    "# confusion matrix: accuracy of classifier\n",
    "from sklearn.metrics import classification_report, confusion_matrix\n",
    "import itertools\n",
    "def plot_confusion_matrix(cm, classes,\n",
    "                          normalize=False,\n",
    "                          title='Confusion matrix',\n",
    "                          cmap=plt.cm.Blues):\n",
    "    \"\"\"\n",
    "    This function prints and plots the confusion matrix.\n",
    "    Normalization can be applied by setting `normalize=True`.\n",
    "    \"\"\"\n",
    "    if normalize:\n",
    "        cm = cm.astype('float') / cm.sum(axis=1)[:, np.newaxis]\n",
    "        print(\"Normalized confusion matrix\")\n",
    "    else:\n",
    "        print('Confusion matrix, without normalization')\n",
    "\n",
    "    print(cm)\n",
    "\n",
    "    plt.imshow(cm, interpolation='nearest', cmap=cmap)\n",
    "    plt.title(title)\n",
    "    plt.colorbar()\n",
    "    tick_marks = np.arange(len(classes))\n",
    "    plt.xticks(tick_marks, classes, rotation=45)\n",
    "    plt.yticks(tick_marks, classes)\n",
    "\n",
    "    fmt = '.2f' if normalize else 'd'\n",
    "    thresh = cm.max() / 2.\n",
    "    for i, j in itertools.product(range(cm.shape[0]), range(cm.shape[1])):\n",
    "        plt.text(j, i, format(cm[i, j], fmt),\n",
    "                 horizontalalignment=\"center\",\n",
    "                 color=\"white\" if cm[i, j] > thresh else \"black\")\n",
    "\n",
    "    plt.tight_layout()\n",
    "    plt.ylabel('True label')\n",
    "    plt.xlabel('Predicted label')\n",
    "print(confusion_matrix(y_test, yhat, labels=[1,0]))"
   ]
  },
  {
   "cell_type": "code",
   "execution_count": 35,
   "metadata": {},
   "outputs": [
    {
     "name": "stdout",
     "output_type": "stream",
     "text": [
      "Confusion matrix, without normalization\n",
      "[[   783    288]\n",
      " [   153 114352]]\n"
     ]
    },
    {
     "data": {
      "image/png": "[encoded data removed]",
      "text/plain": [
       "<Figure size 432x288 with 2 Axes>"
      ]
     },
     "metadata": {
      "needs_background": "light"
     },
     "output_type": "display_data"
    }
   ],
   "source": [
    "# Compute confusion matrix\n",
    "cnf_matrix = confusion_matrix(y_test, yhat, labels=[1,0])\n",
    "np.set_printoptions(precision=2)\n",
    "\n",
    "\n",
    "# Plot non-normalized confusion matrix\n",
    "plt.figure()\n",
    "plot_confusion_matrix(cnf_matrix, classes=['capacity=1','capacityp=0'],normalize= False,  title='Confusion matrix')"
   ]
  },
  {
   "cell_type": "code",
   "execution_count": 36,
   "metadata": {},
   "outputs": [
    {
     "name": "stdout",
     "output_type": "stream",
     "text": [
      "              precision    recall  f1-score   support\n",
      "\n",
      "         0.0       1.00      1.00      1.00    114505\n",
      "         1.0       0.84      0.73      0.78      1071\n",
      "\n",
      "    accuracy                           1.00    115576\n",
      "   macro avg       0.92      0.86      0.89    115576\n",
      "weighted avg       1.00      1.00      1.00    115576\n",
      "\n"
     ]
    }
   ],
   "source": [
    "# classification report\n",
    "print (classification_report(y_test, yhat))"
   ]
  },
  {
   "cell_type": "code",
   "execution_count": 37,
   "metadata": {},
   "outputs": [
    {
     "name": "stdout",
     "output_type": "stream",
     "text": [
      "Training set score: 0.9962\n",
      "Test set score: 0.9962\n"
     ]
    }
   ],
   "source": [
    "# print the scores on training and test set\n",
    "print('Training set score: {:.4f}'.format(LR.score(X_train, y_train)))\n",
    "print('Test set score: {:.4f}'.format(LR.score(X_test, y_test)))"
   ]
  },
  {
   "cell_type": "markdown",
   "metadata": {},
   "source": [
    "### Categorizing 'High, medium, low' for bus capacity"
   ]
  },
  {
   "cell_type": "code",
   "execution_count": 38,
   "metadata": {},
   "outputs": [
    {
     "data": {
      "text/html": [
       "<div>\n",
       "<style scoped>\n",
       "    .dataframe tbody tr th:only-of-type {\n",
       "        vertical-align: middle;\n",
       "    }\n",
       "\n",
       "    .dataframe tbody tr th {\n",
       "        vertical-align: top;\n",
       "    }\n",
       "\n",
       "    .dataframe thead th {\n",
       "        text-align: right;\n",
       "    }\n",
       "</style>\n",
       "<table border=\"1\" class=\"dataframe\">\n",
       "  <thead>\n",
       "    <tr style=\"text-align: right;\">\n",
       "      <th></th>\n",
       "      <th>Actual</th>\n",
       "      <th>Predicted</th>\n",
       "      <th>Prob_cap_1</th>\n",
       "    </tr>\n",
       "  </thead>\n",
       "  <tbody>\n",
       "    <tr>\n",
       "      <th>0</th>\n",
       "      <td>0.0</td>\n",
       "      <td>0.0</td>\n",
       "      <td>0.00000883</td>\n",
       "    </tr>\n",
       "    <tr>\n",
       "      <th>1</th>\n",
       "      <td>0.0</td>\n",
       "      <td>0.0</td>\n",
       "      <td>0.00002824</td>\n",
       "    </tr>\n",
       "    <tr>\n",
       "      <th>2</th>\n",
       "      <td>0.0</td>\n",
       "      <td>0.0</td>\n",
       "      <td>0.00001006</td>\n",
       "    </tr>\n",
       "    <tr>\n",
       "      <th>3</th>\n",
       "      <td>0.0</td>\n",
       "      <td>0.0</td>\n",
       "      <td>0.00000498</td>\n",
       "    </tr>\n",
       "    <tr>\n",
       "      <th>4</th>\n",
       "      <td>0.0</td>\n",
       "      <td>0.0</td>\n",
       "      <td>0.00000301</td>\n",
       "    </tr>\n",
       "  </tbody>\n",
       "</table>\n",
       "</div>"
      ],
      "text/plain": [
       "   Actual  Predicted  Prob_cap_1\n",
       "0     0.0        0.0  0.00000883\n",
       "1     0.0        0.0  0.00002824\n",
       "2     0.0        0.0  0.00001006\n",
       "3     0.0        0.0  0.00000498\n",
       "4     0.0        0.0  0.00000301"
      ]
     },
     "execution_count": 38,
     "metadata": {},
     "output_type": "execute_result"
    }
   ],
   "source": [
    "pd.set_option(\"display.precision\", 8)\n",
    "diff_df = pd.DataFrame({'Actual': y_test, 'Predicted': yhat, 'Prob_cap_1': yhat_prob[:,1]})\n",
    "diff_df.head()"
   ]
  },
  {
   "cell_type": "code",
   "execution_count": 39,
   "metadata": {},
   "outputs": [
    {
     "data": {
      "text/plain": [
       "Text(0.5, 1.0, 'Prob_cap_1')"
      ]
     },
     "execution_count": 39,
     "metadata": {},
     "output_type": "execute_result"
    },
    {
     "data": {
      "image/png": "[encoded data removed]",
      "text/plain": [
       "<Figure size 432x288 with 1 Axes>"
      ]
     },
     "metadata": {
      "needs_background": "light"
     },
     "output_type": "display_data"
    }
   ],
   "source": [
    "%matplotlib inline\n",
    "import matplotlib as plt\n",
    "from matplotlib import pyplot\n",
    "plt.pyplot.hist(diff_df[\"Prob_cap_1\"])\n",
    "\n",
    "# set x/y labels and plot title\n",
    "plt.pyplot.xlabel(\"Prob_cap_1\")\n",
    "plt.pyplot.ylabel(\"count\")\n",
    "plt.pyplot.title(\"Prob_cap_1\")"
   ]
  },
  {
   "cell_type": "code",
   "execution_count": 40,
   "metadata": {},
   "outputs": [
    {
     "data": {
      "text/plain": [
       "array([0.5 , 0.67, 0.83, 1.  ])"
      ]
     },
     "execution_count": 40,
     "metadata": {},
     "output_type": "execute_result"
    }
   ],
   "source": [
    "# categorize from range P(0.5 - 1)\n",
    "# split in 3 bins\n",
    "bins = np.linspace(0.5, max(diff_df[\"Prob_cap_1\"]), 4)\n",
    "bins"
   ]
  },
  {
   "cell_type": "code",
   "execution_count": 41,
   "metadata": {},
   "outputs": [],
   "source": [
    "# name bins\n",
    "group_names = ['Low', 'Medium', 'High']"
   ]
  },
  {
   "cell_type": "code",
   "execution_count": 42,
   "metadata": {},
   "outputs": [],
   "source": [
    "# apply the function \"cut\" to determine what each value of \"df['Prob_cap_1']\" belongs to. \n",
    "diff_df['Prob_cap_1-binned'] = pd.cut(diff_df['Prob_cap_1'], bins, labels=group_names, include_lowest=True )"
   ]
  },
  {
   "cell_type": "code",
   "execution_count": 43,
   "metadata": {},
   "outputs": [],
   "source": [
    "# add 'Not Full' for range P(0,0,5)\n",
    "diff_df['Prob_cap_1-binned'] = diff_df['Prob_cap_1-binned'].cat.add_categories('Not full')\n",
    "diff_df['Prob_cap_1-binned'].fillna('Not full', inplace =True) \n",
    "#diff_df['Prob_cap_1-binned'].fillna(0, inplace = True) \n"
   ]
  },
  {
   "cell_type": "code",
   "execution_count": 44,
   "metadata": {},
   "outputs": [
    {
     "data": {
      "text/html": [
       "<div>\n",
       "<style scoped>\n",
       "    .dataframe tbody tr th:only-of-type {\n",
       "        vertical-align: middle;\n",
       "    }\n",
       "\n",
       "    .dataframe tbody tr th {\n",
       "        vertical-align: top;\n",
       "    }\n",
       "\n",
       "    .dataframe thead th {\n",
       "        text-align: right;\n",
       "    }\n",
       "</style>\n",
       "<table border=\"1\" class=\"dataframe\">\n",
       "  <thead>\n",
       "    <tr style=\"text-align: right;\">\n",
       "      <th></th>\n",
       "      <th>Prob_cap_1</th>\n",
       "      <th>Prob_cap_1-binned</th>\n",
       "    </tr>\n",
       "  </thead>\n",
       "  <tbody>\n",
       "    <tr>\n",
       "      <th>0</th>\n",
       "      <td>0.00000883</td>\n",
       "      <td>Not full</td>\n",
       "    </tr>\n",
       "    <tr>\n",
       "      <th>1</th>\n",
       "      <td>0.00002824</td>\n",
       "      <td>Not full</td>\n",
       "    </tr>\n",
       "    <tr>\n",
       "      <th>2</th>\n",
       "      <td>0.00001006</td>\n",
       "      <td>Not full</td>\n",
       "    </tr>\n",
       "    <tr>\n",
       "      <th>3</th>\n",
       "      <td>0.00000498</td>\n",
       "      <td>Not full</td>\n",
       "    </tr>\n",
       "    <tr>\n",
       "      <th>4</th>\n",
       "      <td>0.00000301</td>\n",
       "      <td>Not full</td>\n",
       "    </tr>\n",
       "  </tbody>\n",
       "</table>\n",
       "</div>"
      ],
      "text/plain": [
       "   Prob_cap_1 Prob_cap_1-binned\n",
       "0  0.00000883          Not full\n",
       "1  0.00002824          Not full\n",
       "2  0.00001006          Not full\n",
       "3  0.00000498          Not full\n",
       "4  0.00000301          Not full"
      ]
     },
     "execution_count": 44,
     "metadata": {},
     "output_type": "execute_result"
    }
   ],
   "source": [
    "diff_df[['Prob_cap_1','Prob_cap_1-binned']].head()"
   ]
  },
  {
   "cell_type": "code",
   "execution_count": 45,
   "metadata": {
    "scrolled": false
   },
   "outputs": [
    {
     "data": {
      "text/plain": [
       "Not full    114640\n",
       "High           567\n",
       "Low            193\n",
       "Medium         176\n",
       "Name: Prob_cap_1-binned, dtype: int64"
      ]
     },
     "execution_count": 45,
     "metadata": {},
     "output_type": "execute_result"
    }
   ],
   "source": [
    "diff_df['Prob_cap_1-binned'].value_counts()"
   ]
  },
  {
   "cell_type": "code",
   "execution_count": null,
   "metadata": {},
   "outputs": [],
   "source": []
  }
 ],
 "metadata": {
  "kernelspec": {
   "display_name": "Python 3",
   "language": "python",
   "name": "python3"
  },
  "language_info": {
   "codemirror_mode": {
    "name": "ipython",
    "version": 3
   },
   "file_extension": ".py",
   "mimetype": "text/x-python",
   "name": "python",
   "nbconvert_exporter": "python",
   "pygments_lexer": "ipython3",
   "version": "3.8.2"
  }
 },
 "nbformat": 4,
 "nbformat_minor": 4
}
